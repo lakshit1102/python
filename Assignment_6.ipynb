{
  "nbformat": 4,
  "nbformat_minor": 0,
  "metadata": {
    "colab": {
      "provenance": [],
      "authorship_tag": "ABX9TyO5vqwNEHAA3BxrxKTkfk5a",
      "include_colab_link": true
    },
    "kernelspec": {
      "name": "python3",
      "display_name": "Python 3"
    },
    "language_info": {
      "name": "python"
    }
  },
  "cells": [
    {
      "cell_type": "markdown",
      "metadata": {
        "id": "view-in-github",
        "colab_type": "text"
      },
      "source": [
        "<a href=\"https://colab.research.google.com/github/lakshit1102/python/blob/main/Assignment_6.ipynb\" target=\"_parent\"><img src=\"https://colab.research.google.com/assets/colab-badge.svg\" alt=\"Open In Colab\"/></a>"
      ]
    },
    {
      "cell_type": "code",
      "execution_count": null,
      "metadata": {
        "id": "5PL90sbzO8dE"
      },
      "outputs": [],
      "source": [
        "def is_perfect(n):\n",
        "    divisors = [1]\n",
        "    for i in range(2, int(n**(1/2))+1):\n",
        "        if n%i == 0:\n",
        "            divisors.append(i)\n",
        "            if i != n//i:\n",
        "                divisors.append(n//i)\n",
        "    return sum(divisors) == n\n"
      ]
    },
    {
      "cell_type": "code",
      "source": [
        "def is_palindrome(p):\n",
        "    return p == p[::-1]\n"
      ],
      "metadata": {
        "id": "dh81OuMpQiYx"
      },
      "execution_count": null,
      "outputs": []
    },
    {
      "cell_type": "code",
      "source": [
        "def triangle(n):\n",
        "    for i in range(n):\n",
        "        for j in range(i + 1):\n",
        "            print(Coeff(i, j), end = \" \")\n",
        "        print()\n",
        "def Coeff(n, k):\n",
        "    res = 1\n",
        "    if (k > n - k):\n",
        "        k = n - k\n",
        "    for i in range(k):\n",
        "        res = res * (n - i)\n",
        "        res = res // (i + 1)\n",
        "    return res\n"
      ],
      "metadata": {
        "id": "HzLkFHObQnRf"
      },
      "execution_count": null,
      "outputs": []
    },
    {
      "cell_type": "code",
      "source": [
        "import string\n",
        "\n",
        "def is_pangram(s):\n",
        "    s = s.lower().replace(\" \", \"\")\n",
        "    s = s.translate(str.maketrans(\"\", \"\", string.punctuation))\n",
        "    alphabet = set(string.ascii_lowercase)\n",
        "    return set(s) == alphabet\n",
        "\n"
      ],
      "metadata": {
        "id": "waD1Fz7eRI3V"
      },
      "execution_count": null,
      "outputs": []
    },
    {
      "cell_type": "code",
      "source": [
        "def separated_words(s):\n",
        "    words = s.split(\"-\")\n",
        "    words.sort()\n",
        "    sorted_string = \"-\".join(words)\n",
        "    print(sorted_string)\n"
      ],
      "metadata": {
        "id": "8dJ_ZLGDR7Tk"
      },
      "execution_count": null,
      "outputs": []
    },
    {
      "cell_type": "code",
      "source": [
        "def student_data(student_id, student_name=None, student_class=None):\n",
        "    print(\"Student ID:\", student_id)\n",
        "    if student_name:\n",
        "        print(\"Student Name:\", student_name)\n",
        "    if student_class:\n",
        "        print(\"Student Class:\", student_class)\n"
      ],
      "metadata": {
        "id": "hgMCQ0cYSJ9h"
      },
      "execution_count": null,
      "outputs": []
    }
  ]
}