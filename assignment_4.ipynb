{
  "nbformat": 4,
  "nbformat_minor": 0,
  "metadata": {
    "colab": {
      "provenance": [],
      "authorship_tag": "ABX9TyMWkVPhDNRJtyxOfLSBLdSQ",
      "include_colab_link": true
    },
    "kernelspec": {
      "name": "python3",
      "display_name": "Python 3"
    },
    "language_info": {
      "name": "python"
    }
  },
  "cells": [
    {
      "cell_type": "markdown",
      "metadata": {
        "id": "view-in-github",
        "colab_type": "text"
      },
      "source": [
        "<a href=\"https://colab.research.google.com/github/lakshit1102/python/blob/main/assignment_4.ipynb\" target=\"_parent\"><img src=\"https://colab.research.google.com/assets/colab-badge.svg\" alt=\"Open In Colab\"/></a>"
      ]
    },
    {
      "cell_type": "code",
      "execution_count": 1,
      "metadata": {
        "colab": {
          "base_uri": "https://localhost:8080/"
        },
        "id": "wSBSPFtiP3XY",
        "outputId": "e3a3c008-e6dd-4929-ac04-40d62979b49d"
      },
      "outputs": [
        {
          "output_type": "stream",
          "name": "stdout",
          "text": [
            "enter your marks:90\n",
            "grade A\n"
          ]
        }
      ],
      "source": [
        "a=int(input(\"enter your marks:\"))\n",
        "if a<25:\n",
        "  print(\"grade F\")\n",
        "elif a>=25 and a<45:\n",
        "  print(\"grade E\")\n",
        "elif a>=45 and a<50:\n",
        "  print(\"grade D\")\n",
        "elif a>=50 and a<60:\n",
        "  print(\"grade C\")\n",
        "elif a>=60 and a<80:\n",
        "  print(\"grade B\")\n",
        "else:\n",
        "  print(\"grade A\")\n",
        "  "
      ]
    },
    {
      "cell_type": "code",
      "source": [
        "y=int(input(\"Enter a year\"))\n",
        "if(y%400)==0:\n",
        "  print(y,\"is a leap year\")\n",
        "elif(y%100)==0:\n",
        " print(y,\"is not a leap year\")\n",
        "elif(y%4)==0:\n",
        " print(y,\"is a leap year\")\n",
        "else:\n",
        "  print(y,\"is not a leap year\")"
      ],
      "metadata": {
        "colab": {
          "base_uri": "https://localhost:8080/"
        },
        "id": "ixAE1ACvRNgP",
        "outputId": "6ae324b9-909b-4ebe-b190-d34a4d12449f"
      },
      "execution_count": 2,
      "outputs": [
        {
          "output_type": "stream",
          "name": "stdout",
          "text": [
            "Enter a year36\n",
            "36 is a leap year\n"
          ]
        }
      ]
    },
    {
      "cell_type": "code",
      "source": [
        "import random\n",
        "\n",
        "for i in range(10):\n",
        "  x= random.randint(1,9)\n",
        "  y= random.randint(1,9)\n",
        "  ques= f\"what is{x}*{y}?\"\n",
        "  ans=int(input(ques))\n",
        "  if ans==x*y:\n",
        "    print(\"right!\")\n",
        "  else:\n",
        "    print(f\"wrong. the correct answer is{x*y}\")\n"
      ],
      "metadata": {
        "colab": {
          "base_uri": "https://localhost:8080/"
        },
        "id": "EnrAZnksSLr3",
        "outputId": "ed70021f-76ae-4324-eefe-28ea28abd06c"
      },
      "execution_count": 6,
      "outputs": [
        {
          "output_type": "stream",
          "name": "stdout",
          "text": [
            "what is4*8?32\n",
            "right!\n",
            "what is6*1?6\n",
            "right!\n",
            "what is8*5?46\n",
            "wrong. the correct answer is40\n",
            "what is4*6?24\n",
            "right!\n",
            "what is8*8?64\n",
            "right!\n",
            "what is3*5?15\n",
            "right!\n",
            "what is4*5?20\n",
            "right!\n",
            "what is5*3?15\n",
            "right!\n",
            "what is9*2?18\n",
            "right!\n",
            "what is8*9?90\n",
            "wrong. the correct answer is72\n"
          ]
        }
      ]
    },
    {
      "cell_type": "code",
      "source": [
        "for i in range(200):\n",
        "  if i%5==2 and i%6==3 and i%7==2:\n",
        "    print(\"there are\",i,\"pieces in the bowl\"),\n",
        "    break"
      ],
      "metadata": {
        "colab": {
          "base_uri": "https://localhost:8080/"
        },
        "id": "TeaWfj0sTcOH",
        "outputId": "23fa1006-811c-4fc6-d345-e1fd407f7322"
      },
      "execution_count": 7,
      "outputs": [
        {
          "output_type": "stream",
          "name": "stdout",
          "text": [
            "there are 177 pieces in the bowl\n"
          ]
        }
      ]
    },
    {
      "cell_type": "code",
      "source": [
        "a=str(\"Lakshit\")\n",
        "print(a[::-1])"
      ],
      "metadata": {
        "colab": {
          "base_uri": "https://localhost:8080/"
        },
        "id": "uc29Yw3UUbEo",
        "outputId": "9fa4d047-8da7-40e4-8296-04c99db9b947"
      },
      "execution_count": 8,
      "outputs": [
        {
          "output_type": "stream",
          "name": "stdout",
          "text": [
            "tihskaL\n"
          ]
        }
      ]
    },
    {
      "cell_type": "code",
      "source": [
        "a=int(input(\"start of range\"))\n",
        "b=int(input(\"end of range\"))\n",
        "c=int(input(\"number to be divided by:\"))\n",
        " for i in range(a,b+1):\n",
        "   if i%c==0\n",
        "   print(i)"
      ],
      "metadata": {
        "colab": {
          "base_uri": "https://localhost:8080/",
          "height": 131
        },
        "id": "NMa2CSFkUv9c",
        "outputId": "ce86911b-bbc3-4a36-b87c-e0ebee59da2e"
      },
      "execution_count": 9,
      "outputs": [
        {
          "output_type": "error",
          "ename": "IndentationError",
          "evalue": "ignored",
          "traceback": [
            "\u001b[0;36m  File \u001b[0;32m\"<ipython-input-9-8002a44a50bc>\"\u001b[0;36m, line \u001b[0;32m4\u001b[0m\n\u001b[0;31m    for i in range(a,b+1):\u001b[0m\n\u001b[0m    ^\u001b[0m\n\u001b[0;31mIndentationError\u001b[0m\u001b[0;31m:\u001b[0m unexpected indent\n"
          ]
        }
      ]
    },
    {
      "cell_type": "code",
      "source": [
        "a=float(input(\"enter 1st side:\"))\n",
        "b=float(input(\"enter 2nd side\"))\n",
        "c=float(input(\"enter 3rd side\"))\n",
        "if a+b>c and b+c>a and a+c>b:\n",
        "  s=(a+b+c)/2\n",
        "  area=(s*(s-a)*(s-b)*(s-c))**(1/2)\n",
        "  print(\"area=\",area)\n",
        "else:\n",
        "  print(\"not possible\")"
      ],
      "metadata": {
        "id": "2MRrF91kVc2G"
      },
      "execution_count": null,
      "outputs": []
    },
    {
      "cell_type": "code",
      "source": [
        "for i in range(1,6):\n",
        "  for j in range(i):\n",
        "    print(\"*\",end=\"\")\n",
        "  print()\n",
        "  \n",
        "for i in range(4,0,-1):\n",
        "  for j in range(i):\n",
        "     print(\"*\",end=\"\")\n",
        "     print()"
      ],
      "metadata": {
        "colab": {
          "base_uri": "https://localhost:8080/"
        },
        "id": "oxwthXWKWne7",
        "outputId": "d0095104-e445-48b4-ff4e-7637002c0bc5"
      },
      "execution_count": 13,
      "outputs": [
        {
          "output_type": "stream",
          "name": "stdout",
          "text": [
            "*\n",
            "**\n",
            "***\n",
            "****\n",
            "*****\n",
            "*\n",
            "*\n",
            "*\n",
            "*\n",
            "*\n",
            "*\n",
            "*\n",
            "*\n",
            "*\n",
            "*\n"
          ]
        }
      ]
    },
    {
      "cell_type": "code",
      "source": [],
      "metadata": {
        "id": "hwkxKrPEYKsd"
      },
      "execution_count": null,
      "outputs": []
    }
  ]
}