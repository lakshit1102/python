{
  "nbformat": 4,
  "nbformat_minor": 0,
  "metadata": {
    "colab": {
      "provenance": [],
      "authorship_tag": "ABX9TyMa0PEi3tJeXn6O1eb73S69",
      "include_colab_link": true
    },
    "kernelspec": {
      "name": "python3",
      "display_name": "Python 3"
    },
    "language_info": {
      "name": "python"
    }
  },
  "cells": [
    {
      "cell_type": "markdown",
      "metadata": {
        "id": "view-in-github",
        "colab_type": "text"
      },
      "source": [
        "<a href=\"https://colab.research.google.com/github/lakshit1102/python/blob/main/assignment_2.ipynb\" target=\"_parent\"><img src=\"https://colab.research.google.com/assets/colab-badge.svg\" alt=\"Open In Colab\"/></a>"
      ]
    },
    {
      "cell_type": "code",
      "execution_count": null,
      "metadata": {
        "colab": {
          "base_uri": "https://localhost:8080/"
        },
        "id": "z9yhbk6QD_-l",
        "outputId": "5e970074-c362-4313-a869-2a769234fb2b"
      },
      "outputs": [
        {
          "output_type": "stream",
          "name": "stdout",
          "text": [
            "enter your namelakshit jain\n",
            "enter your sid22104009\n",
            "enter your branchelectrical\n",
            "Hey lakshit jain here\n",
            "My sid is 22104009\n",
            "I am from electrical department and my cgpa is 9.9\n"
          ]
        }
      ],
      "source": [
        "a=str(input(\"enter your name\"))\n",
        "b=int(input(\"enter your sid\"))\n",
        "c=str(input(\"enter your branch\"))\n",
        "print(\"Hey\",a,\"here\")\n",
        "print(\"My sid is\",b)\n",
        "print(\"I am from\",c,\"department and my cgpa is 9.9\")"
      ]
    },
    {
      "cell_type": "code",
      "source": [
        "a=56\n",
        "b=10\n",
        "print(a & b)\n",
        "print(a | b)\n",
        "print(a ^ b)\n",
        "print(\"a shift left by 2 bits\",a<<2)\n",
        "print(\"b shift left by 2 bits\",b<<2)\n",
        "print(\"a shift right by 2 bits\",a >>2)\n",
        "print(\"b shift right by 4 bits\",b>>4)"
      ],
      "metadata": {
        "colab": {
          "base_uri": "https://localhost:8080/"
        },
        "id": "gG7nmE7KIvH5",
        "outputId": "fbdac19b-9d8e-470c-a514-b2839d2bd18b"
      },
      "execution_count": null,
      "outputs": [
        {
          "output_type": "stream",
          "name": "stdout",
          "text": [
            "8\n",
            "58\n",
            "50\n",
            "a shift left by 2 bits 224\n",
            "b shift left by 2 bits 40\n",
            "a shift right by 2 bits 14\n",
            "b shift right by 4 bits 0\n"
          ]
        }
      ]
    },
    {
      "cell_type": "code",
      "source": [
        "a=int(input(\"enter one number\"))\n",
        "b=int(input(\"enter second number\"))\n",
        "c=int(input(\"enter third number\"))\n",
        "if(a>b) and (a>c):\n",
        "  print(a)\n",
        "if(b>c) and (b>a):\n",
        "  print(b)\n",
        "if(c>a) and (c>b):\n",
        "  print(c)"
      ],
      "metadata": {
        "colab": {
          "base_uri": "https://localhost:8080/"
        },
        "id": "50a7BJX6Nl14",
        "outputId": "51fd9ce7-c201-40d2-e9d5-f82170cce3f8"
      },
      "execution_count": null,
      "outputs": [
        {
          "output_type": "stream",
          "name": "stdout",
          "text": [
            "enter one number12\n",
            "enter second number23\n",
            "enter third number99\n",
            "99\n"
          ]
        }
      ]
    },
    {
      "cell_type": "code",
      "source": [
        "a=(input(\"enter a statement\"))\n",
        "if(\"name\" in a):\n",
        "  print(\"true\")\n",
        "else:\n",
        "    print(\"false\")"
      ],
      "metadata": {
        "colab": {
          "base_uri": "https://localhost:8080/"
        },
        "id": "QzCAFIvuQdxF",
        "outputId": "2da7a42f-741c-47fb-ef83-448105528d79"
      },
      "execution_count": null,
      "outputs": [
        {
          "output_type": "stream",
          "name": "stdout",
          "text": [
            "enter a statementmy\n",
            "false\n"
          ]
        }
      ]
    },
    {
      "cell_type": "code",
      "source": [
        "a=int(input(\"enter first length\"))\n",
        "b=int(input(\"enter sencond length\"))\n",
        "c=int(input(\"enter third length\"))\n",
        "if(a+b<c) or (a+c<b) or (c+b<a):\n",
        "  print(\"no\")\n",
        "else:\n",
        "  print(\"yes\")\n"
      ],
      "metadata": {
        "colab": {
          "base_uri": "https://localhost:8080/"
        },
        "id": "M3R4i4a3RebO",
        "outputId": "56c653c6-c382-4194-cd19-09af9676ffb0"
      },
      "execution_count": null,
      "outputs": [
        {
          "output_type": "stream",
          "name": "stdout",
          "text": [
            "enter first length10\n",
            "enter sencond length20\n",
            "enter third length9\n",
            "no\n"
          ]
        }
      ]
    },
    {
      "cell_type": "code",
      "source": [
        "a=(\"python is a case sensitive language\")\n",
        "print(len(a))\n",
        "print(a[::-1])\n",
        "b=a[10:26:1]\n",
        "print(b)\n",
        "replaced=a.replace(\"a case sensitive\",\"object or oriented\")\n",
        "print(replaced)\n",
        "print(a.index(\"a\"))\n",
        "\n",
        "  \n",
        "\n"
      ],
      "metadata": {
        "colab": {
          "base_uri": "https://localhost:8080/"
        },
        "id": "7wJCBpgATG5U",
        "outputId": "7cd45fb1-b749-42f9-e3d2-a3073f4170af"
      },
      "execution_count": 3,
      "outputs": [
        {
          "output_type": "stream",
          "name": "stdout",
          "text": [
            "35\n",
            "egaugnal evitisnes esac a si nohtyp\n",
            "a case sensitive\n",
            "python is object or oriented language\n",
            "10\n"
          ]
        }
      ]
    }
  ]
}